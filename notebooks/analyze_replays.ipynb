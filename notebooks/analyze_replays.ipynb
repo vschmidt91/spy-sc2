{
 "cells": [
  {
   "cell_type": "code",
   "id": "74c5230d7bd87367",
   "metadata": {},
   "source": [
    "import glob\n",
    "import lzma\n",
    "import os\n",
    "import pickle\n",
    "import sys\n",
    "\n",
    "import pandas\n",
    "from pandas import DataFrame, concat\n",
    "from s2clientprotocol import sc2api_pb2 as sc_pb\n",
    "from sc2.main import _play_replay, _setup_replay, get_replay_version\n",
    "from sc2.sc2process import SC2Process\n",
    "from tqdm import tqdm\n",
    "\n",
    "sys.path.append(\"../ares-sc2\")  # required to import sc2_helper\n",
    "sys.path.append(\"../ares-sc2/src\")  # required to import ares\n",
    "sys.path.append(\"phantom\")\n",
    "\n",
    "from ares import ALL_STRUCTURES, WORKER_TYPES\n",
    "\n",
    "from phantom.common.constants import UNIT_COUNTER_DICT\n",
    "from phantom.replay import Replay, ReplayBot, ReplayStep, Report"
   ],
   "outputs": [],
   "execution_count": null
  },
  {
   "cell_type": "code",
   "id": "a2e8b5c1f0a20012",
   "metadata": {},
   "source": [
    "sc_pb.ObserverAction"
   ],
   "outputs": [],
   "execution_count": null
  },
  {
   "cell_type": "code",
   "id": "f4f88aec1664b990",
   "metadata": {},
   "source": [
    "sc_pb.__dict__"
   ],
   "outputs": [],
   "execution_count": null
  },
  {
   "cell_type": "code",
   "id": "d3df975c0eb0aaa1",
   "metadata": {},
   "source": [
    "pandas.set_option(\"plotting.backend\", \"plotly\")"
   ],
   "outputs": [],
   "execution_count": null
  },
  {
   "cell_type": "code",
   "id": "initial_id",
   "metadata": {
    "collapsed": true
   },
   "source": [
    "PLAYERS = [0, 1, 2]\n",
    "\n",
    "UNIT_TYPES = WORKER_TYPES | ALL_STRUCTURES | UNIT_COUNTER_DICT.keys()\n",
    "\n",
    "\n",
    "def state_to_df(game_loop: int, state: ReplayStep) -> DataFrame:\n",
    "    compositions = state.player_compositions()\n",
    "    state.player_upgrades()\n",
    "    records = []\n",
    "    for player, composition in compositions.items():\n",
    "        record = {\"player\": player, \"game_loop\": game_loop}\n",
    "        record.update({u.name: composition.get(u.name, 0) for u in UNIT_TYPES})\n",
    "        records.append(record)\n",
    "    return DataFrame(records)"
   ],
   "outputs": [],
   "execution_count": null
  },
  {
   "cell_type": "code",
   "id": "29698aca0b708698",
   "metadata": {},
   "source": [
    "observe_id = 2\n",
    "realtime = False\n",
    "for replay_file in glob.glob(\"../resources/replays/aiarena/*.SC2Replay\"):\n",
    "    bot = ReplayBot()\n",
    "    replay = Replay.from_file(replay_file)\n",
    "    base_build, data_version = get_replay_version(replay_file)\n",
    "    async with SC2Process(fullscreen=True, base_build=base_build, data_hash=data_version) as server:\n",
    "        client = await _setup_replay(server, os.path.abspath(replay_file), realtime, observe_id)\n",
    "        result = await _play_replay(client, bot, realtime, observe_id)"
   ],
   "outputs": [],
   "execution_count": null
  },
  {
   "cell_type": "code",
   "id": "c5e1696cc0ad8745",
   "metadata": {},
   "source": [
    "bot.replay.steps[4000].player_compositions()"
   ],
   "outputs": [],
   "execution_count": null
  },
  {
   "cell_type": "code",
   "id": "7d584b64607365cd",
   "metadata": {},
   "source": [
    "REPLAY_FILES = glob.glob(\"../resources/replays/local/*.pkl.xz\")"
   ],
   "outputs": [],
   "execution_count": null
  },
  {
   "cell_type": "code",
   "id": "efe3be3191f56935",
   "metadata": {},
   "source": [
    "dfs = list[DataFrame]()\n",
    "\n",
    "for replay_file in REPLAY_FILES:\n",
    "    with lzma.open(replay_file, \"rb\") as f:\n",
    "        report: Report = pickle.load(f)\n",
    "\n",
    "    state_bot = report.replay_bot.steps[0]\n",
    "    game_loops = sorted(set(report.replay_bot.steps.keys() | report.replay_observer.steps.keys()))\n",
    "    for game_loop in tqdm(game_loops, desc=replay_file):\n",
    "        if state_bot_update := (report.replay_bot.steps.get(game_loop)):\n",
    "            state_bot = state_bot_update\n",
    "        if state_observer_update := report.replay_observer.steps.get(game_loop):\n",
    "            state_observer = state_observer_update\n",
    "        df_bot = state_to_df(game_loop, state_bot)\n",
    "        df_bot[\"seen\"] = True\n",
    "        dfs.append(df_bot)\n",
    "        df_observer = state_to_df(game_loop, state_observer)\n",
    "        df_observer[\"seen\"] = False\n",
    "        dfs.append(df_observer)\n",
    "\n",
    "df_replay = concat(dfs).set_index([\"game_loop\", \"player\", \"seen\"])"
   ],
   "outputs": [],
   "execution_count": null
  },
  {
   "cell_type": "code",
   "id": "711110581f42f8a7",
   "metadata": {},
   "source": [
    "seen = df_replay.loc[(slice(None), 1, True), :].droplevel([\"player\", \"seen\"])\n",
    "unseen = df_replay.loc[(slice(None), 1, False), :].droplevel([\"player\", \"seen\"])\n",
    "(seen - unseen).plot()"
   ],
   "outputs": [],
   "execution_count": null
  },
  {
   "cell_type": "code",
   "id": "c713c467a46db082",
   "metadata": {},
   "source": [
    "df_replay.loc[(slice(None), 2, False), \"DRONE\"].droplevel([\"player\", \"seen\"]).plot()"
   ],
   "outputs": [],
   "execution_count": null
  },
  {
   "cell_type": "code",
   "id": "6408f060e7e55873",
   "metadata": {},
   "source": [
    "df_replay.loc[(slice(None), 2, True), \"DRONE\"].droplevel([\"player\", \"seen\"]).plot()"
   ],
   "outputs": [],
   "execution_count": null
  }
 ],
 "metadata": {
  "kernelspec": {
   "display_name": "Python 3",
   "language": "python",
   "name": "python3"
  },
  "language_info": {
   "codemirror_mode": {
    "name": "ipython",
    "version": 2
   },
   "file_extension": ".py",
   "mimetype": "text/x-python",
   "name": "python",
   "nbconvert_exporter": "python",
   "pygments_lexer": "ipython2",
   "version": "2.7.6"
  }
 },
 "nbformat": 4,
 "nbformat_minor": 5
}
