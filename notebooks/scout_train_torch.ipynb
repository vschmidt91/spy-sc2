{
 "cells": [
  {
   "cell_type": "code",
   "execution_count": null,
   "id": "initial_id",
   "metadata": {
    "ExecuteTime": {
     "end_time": "2025-06-08T00:47:47.970928Z",
     "start_time": "2025-06-08T00:47:47.965835Z"
    },
    "collapsed": true
   },
   "outputs": [],
   "source": [
    "import time\n",
    "\n",
    "import dask.dataframe as dd\n",
    "import numpy as np\n",
    "import pandas as pd\n",
    "import torch\n",
    "import torch.nn as nn\n",
    "from ares import ALL_STRUCTURES\n",
    "from sc2.dicts.unit_tech_alias import UNIT_TECH_ALIAS\n",
    "from sc2.dicts.unit_trained_from import UNIT_TRAINED_FROM\n",
    "from sc2.dicts.unit_unit_alias import UNIT_UNIT_ALIAS\n",
    "from sc2.ids.unit_typeid import UnitTypeId\n",
    "from torch import optim\n",
    "from torch.utils.data import DataLoader, TensorDataset\n",
    "from tqdm.notebook import tqdm"
   ]
  },
  {
   "cell_type": "code",
   "execution_count": 25,
   "id": "a2b6c9590c225361",
   "metadata": {
    "ExecuteTime": {
     "end_time": "2025-06-08T00:47:47.990314Z",
     "start_time": "2025-06-08T00:47:47.985949Z"
    }
   },
   "outputs": [],
   "source": [
    "unit_types = ALL_STRUCTURES | UNIT_TRAINED_FROM.keys() | UNIT_TECH_ALIAS.keys() | UNIT_UNIT_ALIAS.keys()\n",
    "unit_type_values = list(set(u.value for u in unit_types))"
   ]
  },
  {
   "cell_type": "code",
   "execution_count": 26,
   "id": "9800a26bb2428596",
   "metadata": {
    "ExecuteTime": {
     "end_time": "2025-06-08T00:47:48.005115Z",
     "start_time": "2025-06-08T00:47:47.999414Z"
    }
   },
   "outputs": [],
   "source": [
    "device = torch.device(\"cuda\" if torch.cuda.is_available() else \"cpu\")"
   ]
  },
  {
   "cell_type": "code",
   "execution_count": 27,
   "id": "743fe8cc",
   "metadata": {},
   "outputs": [],
   "source": [
    "def get_alias(unit_type: UnitTypeId) -> UnitTypeId | None:\n",
    "    if unit_type == UnitTypeId.HIVE:\n",
    "        return UnitTypeId.LAIR\n",
    "    elif aliases := UNIT_TECH_ALIAS.get(unit_type):\n",
    "        if len(aliases) == 1:\n",
    "            return next(iter(aliases))\n",
    "        raise NotImplementedError()\n",
    "    elif alias := UNIT_UNIT_ALIAS.get(unit_type):\n",
    "        return alias\n",
    "    return None\n",
    "\n",
    "\n",
    "aliases = list((k, v) for k in reversed(UnitTypeId) if (v := get_alias(k)) is not None)"
   ]
  },
  {
   "cell_type": "code",
   "execution_count": 28,
   "id": "862f704b0f06e111",
   "metadata": {
    "ExecuteTime": {
     "end_time": "2025-06-08T00:47:48.026160Z",
     "start_time": "2025-06-08T00:47:48.021939Z"
    }
   },
   "outputs": [],
   "source": [
    "def process(df: pd.DataFrame) -> dd.DataFrame:\n",
    "    return (\n",
    "        df.pivot_table(index=[\"replay_name\", \"game_loop\", \"player\"], columns=[\"is_own\", \"unit_type\"], values=\"count\")\n",
    "        .fillna(0)\n",
    "        .astype(int)\n",
    "    )"
   ]
  },
  {
   "cell_type": "code",
   "execution_count": 29,
   "id": "c4d3dec582c90aa9",
   "metadata": {
    "ExecuteTime": {
     "end_time": "2025-06-08T00:47:48.142287Z",
     "start_time": "2025-06-08T00:47:48.031335Z"
    }
   },
   "outputs": [],
   "source": [
    "df_train = pd.read_parquet(\"../resources/datasets/scout/train.parquet\")\n",
    "df_test = pd.read_parquet(\"../resources/datasets/scout/test.parquet\")"
   ]
  },
  {
   "cell_type": "code",
   "execution_count": 30,
   "id": "3b4da1e285e687c6",
   "metadata": {
    "ExecuteTime": {
     "end_time": "2025-06-08T00:47:48.156317Z",
     "start_time": "2025-06-08T00:47:48.149198Z"
    }
   },
   "outputs": [],
   "source": [
    "def preprocess(df: pd.DataFrame) -> pd.DataFrame:\n",
    "    df = df.assign(is_own=df[\"owner\"] == df[\"player\"])\n",
    "    df = df.pivot_table(\n",
    "        index=[\"replay_name\", \"game_loop\", \"player\", \"is_own\"], columns=[\"unit_type\"], values=\"count\", fill_value=0\n",
    "    )\n",
    "    for alias_from, alias_to in aliases:\n",
    "        if alias_from.value in df.columns:\n",
    "            df = df.add(df[alias_from.value].to_frame(name=alias_to.value), fill_value=0)\n",
    "    df = df.reindex(columns=unit_type_values, fill_value=0)\n",
    "    return df\n",
    "\n",
    "\n",
    "def to_numpy(df: pd.DataFrame) -> tuple[np.ndarray, np.ndarray]:\n",
    "    x1 = df.loc[:, :, 1, :].to_numpy()\n",
    "    x2 = df.loc[:, :, 2, :].to_numpy()\n",
    "    x = np.concatenate([x1, x2])\n",
    "    y = np.concatenate([x2, x1])\n",
    "    return x, y"
   ]
  },
  {
   "cell_type": "code",
   "execution_count": 31,
   "id": "ef7e15519c9cb1d1",
   "metadata": {
    "ExecuteTime": {
     "end_time": "2025-06-08T00:47:48.176698Z",
     "start_time": "2025-06-08T00:47:48.165983Z"
    }
   },
   "outputs": [
    {
     "data": {
      "application/vnd.microsoft.datawrangler.viewer.v0+json": {
       "columns": [
        {
         "name": "index",
         "rawType": "int64",
         "type": "integer"
        },
        {
         "name": "game_loop",
         "rawType": "int32",
         "type": "integer"
        },
        {
         "name": "unit_type",
         "rawType": "int32",
         "type": "integer"
        },
        {
         "name": "player",
         "rawType": "int8",
         "type": "integer"
        },
        {
         "name": "owner",
         "rawType": "int8",
         "type": "integer"
        },
        {
         "name": "count",
         "rawType": "int64",
         "type": "integer"
        },
        {
         "name": "replay_name",
         "rawType": "string",
         "type": "string"
        }
       ],
       "ref": "5ef5718e-4d29-4afa-83be-d649cd59d666",
       "rows": [
        [
         "0",
         "0",
         "86",
         "1",
         "1",
         "1",
         "3901860_Sharkling_PhantomBot_EphemeronAIE.SC2Replay.parquet"
        ],
        [
         "1",
         "0",
         "86",
         "2",
         "2",
         "1",
         "3901860_Sharkling_PhantomBot_EphemeronAIE.SC2Replay.parquet"
        ],
        [
         "2",
         "0",
         "104",
         "1",
         "1",
         "12",
         "3901860_Sharkling_PhantomBot_EphemeronAIE.SC2Replay.parquet"
        ],
        [
         "3",
         "0",
         "104",
         "2",
         "2",
         "12",
         "3901860_Sharkling_PhantomBot_EphemeronAIE.SC2Replay.parquet"
        ],
        [
         "4",
         "0",
         "106",
         "1",
         "1",
         "1",
         "3901860_Sharkling_PhantomBot_EphemeronAIE.SC2Replay.parquet"
        ],
        [
         "5",
         "0",
         "106",
         "2",
         "2",
         "1",
         "3901860_Sharkling_PhantomBot_EphemeronAIE.SC2Replay.parquet"
        ],
        [
         "6",
         "0",
         "151",
         "1",
         "1",
         "3",
         "3901860_Sharkling_PhantomBot_EphemeronAIE.SC2Replay.parquet"
        ],
        [
         "7",
         "0",
         "151",
         "2",
         "2",
         "3",
         "3901860_Sharkling_PhantomBot_EphemeronAIE.SC2Replay.parquet"
        ],
        [
         "8",
         "1",
         "86",
         "1",
         "1",
         "1",
         "3901860_Sharkling_PhantomBot_EphemeronAIE.SC2Replay.parquet"
        ],
        [
         "9",
         "1",
         "86",
         "2",
         "2",
         "1",
         "3901860_Sharkling_PhantomBot_EphemeronAIE.SC2Replay.parquet"
        ],
        [
         "10",
         "1",
         "104",
         "1",
         "1",
         "12",
         "3901860_Sharkling_PhantomBot_EphemeronAIE.SC2Replay.parquet"
        ],
        [
         "11",
         "1",
         "104",
         "2",
         "2",
         "12",
         "3901860_Sharkling_PhantomBot_EphemeronAIE.SC2Replay.parquet"
        ],
        [
         "12",
         "1",
         "106",
         "1",
         "1",
         "1",
         "3901860_Sharkling_PhantomBot_EphemeronAIE.SC2Replay.parquet"
        ],
        [
         "13",
         "1",
         "106",
         "2",
         "2",
         "1",
         "3901860_Sharkling_PhantomBot_EphemeronAIE.SC2Replay.parquet"
        ],
        [
         "14",
         "1",
         "151",
         "1",
         "1",
         "3",
         "3901860_Sharkling_PhantomBot_EphemeronAIE.SC2Replay.parquet"
        ],
        [
         "15",
         "1",
         "151",
         "2",
         "2",
         "3",
         "3901860_Sharkling_PhantomBot_EphemeronAIE.SC2Replay.parquet"
        ],
        [
         "16",
         "2",
         "86",
         "1",
         "1",
         "1",
         "3901860_Sharkling_PhantomBot_EphemeronAIE.SC2Replay.parquet"
        ],
        [
         "17",
         "2",
         "86",
         "2",
         "2",
         "1",
         "3901860_Sharkling_PhantomBot_EphemeronAIE.SC2Replay.parquet"
        ],
        [
         "18",
         "2",
         "104",
         "1",
         "1",
         "12",
         "3901860_Sharkling_PhantomBot_EphemeronAIE.SC2Replay.parquet"
        ],
        [
         "19",
         "2",
         "104",
         "2",
         "2",
         "12",
         "3901860_Sharkling_PhantomBot_EphemeronAIE.SC2Replay.parquet"
        ],
        [
         "20",
         "2",
         "106",
         "1",
         "1",
         "1",
         "3901860_Sharkling_PhantomBot_EphemeronAIE.SC2Replay.parquet"
        ],
        [
         "21",
         "2",
         "106",
         "2",
         "2",
         "1",
         "3901860_Sharkling_PhantomBot_EphemeronAIE.SC2Replay.parquet"
        ],
        [
         "22",
         "2",
         "151",
         "1",
         "1",
         "3",
         "3901860_Sharkling_PhantomBot_EphemeronAIE.SC2Replay.parquet"
        ],
        [
         "23",
         "2",
         "151",
         "2",
         "2",
         "3",
         "3901860_Sharkling_PhantomBot_EphemeronAIE.SC2Replay.parquet"
        ],
        [
         "24",
         "3",
         "86",
         "1",
         "1",
         "1",
         "3901860_Sharkling_PhantomBot_EphemeronAIE.SC2Replay.parquet"
        ],
        [
         "25",
         "3",
         "86",
         "2",
         "2",
         "1",
         "3901860_Sharkling_PhantomBot_EphemeronAIE.SC2Replay.parquet"
        ],
        [
         "26",
         "3",
         "104",
         "1",
         "1",
         "12",
         "3901860_Sharkling_PhantomBot_EphemeronAIE.SC2Replay.parquet"
        ],
        [
         "27",
         "3",
         "104",
         "2",
         "2",
         "12",
         "3901860_Sharkling_PhantomBot_EphemeronAIE.SC2Replay.parquet"
        ],
        [
         "28",
         "3",
         "106",
         "1",
         "1",
         "1",
         "3901860_Sharkling_PhantomBot_EphemeronAIE.SC2Replay.parquet"
        ],
        [
         "29",
         "3",
         "106",
         "2",
         "2",
         "1",
         "3901860_Sharkling_PhantomBot_EphemeronAIE.SC2Replay.parquet"
        ],
        [
         "30",
         "3",
         "151",
         "1",
         "1",
         "3",
         "3901860_Sharkling_PhantomBot_EphemeronAIE.SC2Replay.parquet"
        ],
        [
         "31",
         "3",
         "151",
         "2",
         "2",
         "3",
         "3901860_Sharkling_PhantomBot_EphemeronAIE.SC2Replay.parquet"
        ],
        [
         "32",
         "4",
         "86",
         "1",
         "1",
         "1",
         "3901860_Sharkling_PhantomBot_EphemeronAIE.SC2Replay.parquet"
        ],
        [
         "33",
         "4",
         "86",
         "2",
         "2",
         "1",
         "3901860_Sharkling_PhantomBot_EphemeronAIE.SC2Replay.parquet"
        ],
        [
         "34",
         "4",
         "103",
         "2",
         "2",
         "1",
         "3901860_Sharkling_PhantomBot_EphemeronAIE.SC2Replay.parquet"
        ],
        [
         "35",
         "4",
         "104",
         "1",
         "1",
         "12",
         "3901860_Sharkling_PhantomBot_EphemeronAIE.SC2Replay.parquet"
        ],
        [
         "36",
         "4",
         "104",
         "2",
         "2",
         "12",
         "3901860_Sharkling_PhantomBot_EphemeronAIE.SC2Replay.parquet"
        ],
        [
         "37",
         "4",
         "106",
         "1",
         "1",
         "1",
         "3901860_Sharkling_PhantomBot_EphemeronAIE.SC2Replay.parquet"
        ],
        [
         "38",
         "4",
         "106",
         "2",
         "2",
         "1",
         "3901860_Sharkling_PhantomBot_EphemeronAIE.SC2Replay.parquet"
        ],
        [
         "39",
         "4",
         "151",
         "1",
         "1",
         "3",
         "3901860_Sharkling_PhantomBot_EphemeronAIE.SC2Replay.parquet"
        ],
        [
         "40",
         "4",
         "151",
         "2",
         "2",
         "2",
         "3901860_Sharkling_PhantomBot_EphemeronAIE.SC2Replay.parquet"
        ],
        [
         "41",
         "5",
         "86",
         "1",
         "1",
         "1",
         "3901860_Sharkling_PhantomBot_EphemeronAIE.SC2Replay.parquet"
        ],
        [
         "42",
         "5",
         "86",
         "2",
         "2",
         "1",
         "3901860_Sharkling_PhantomBot_EphemeronAIE.SC2Replay.parquet"
        ],
        [
         "43",
         "5",
         "103",
         "2",
         "2",
         "1",
         "3901860_Sharkling_PhantomBot_EphemeronAIE.SC2Replay.parquet"
        ],
        [
         "44",
         "5",
         "104",
         "1",
         "1",
         "12",
         "3901860_Sharkling_PhantomBot_EphemeronAIE.SC2Replay.parquet"
        ],
        [
         "45",
         "5",
         "104",
         "2",
         "2",
         "12",
         "3901860_Sharkling_PhantomBot_EphemeronAIE.SC2Replay.parquet"
        ],
        [
         "46",
         "5",
         "106",
         "1",
         "1",
         "1",
         "3901860_Sharkling_PhantomBot_EphemeronAIE.SC2Replay.parquet"
        ],
        [
         "47",
         "5",
         "106",
         "2",
         "2",
         "1",
         "3901860_Sharkling_PhantomBot_EphemeronAIE.SC2Replay.parquet"
        ],
        [
         "48",
         "5",
         "151",
         "1",
         "1",
         "3",
         "3901860_Sharkling_PhantomBot_EphemeronAIE.SC2Replay.parquet"
        ],
        [
         "49",
         "5",
         "151",
         "2",
         "2",
         "2",
         "3901860_Sharkling_PhantomBot_EphemeronAIE.SC2Replay.parquet"
        ]
       ],
       "shape": {
        "columns": 6,
        "rows": 25797110
       }
      },
      "text/html": [
       "<div>\n",
       "<style scoped>\n",
       "    .dataframe tbody tr th:only-of-type {\n",
       "        vertical-align: middle;\n",
       "    }\n",
       "\n",
       "    .dataframe tbody tr th {\n",
       "        vertical-align: top;\n",
       "    }\n",
       "\n",
       "    .dataframe thead th {\n",
       "        text-align: right;\n",
       "    }\n",
       "</style>\n",
       "<table border=\"1\" class=\"dataframe\">\n",
       "  <thead>\n",
       "    <tr style=\"text-align: right;\">\n",
       "      <th></th>\n",
       "      <th>game_loop</th>\n",
       "      <th>unit_type</th>\n",
       "      <th>player</th>\n",
       "      <th>owner</th>\n",
       "      <th>count</th>\n",
       "      <th>replay_name</th>\n",
       "    </tr>\n",
       "  </thead>\n",
       "  <tbody>\n",
       "    <tr>\n",
       "      <th>0</th>\n",
       "      <td>0</td>\n",
       "      <td>86</td>\n",
       "      <td>1</td>\n",
       "      <td>1</td>\n",
       "      <td>1</td>\n",
       "      <td>3901860_Sharkling_PhantomBot_EphemeronAIE.SC2R...</td>\n",
       "    </tr>\n",
       "    <tr>\n",
       "      <th>1</th>\n",
       "      <td>0</td>\n",
       "      <td>86</td>\n",
       "      <td>2</td>\n",
       "      <td>2</td>\n",
       "      <td>1</td>\n",
       "      <td>3901860_Sharkling_PhantomBot_EphemeronAIE.SC2R...</td>\n",
       "    </tr>\n",
       "    <tr>\n",
       "      <th>2</th>\n",
       "      <td>0</td>\n",
       "      <td>104</td>\n",
       "      <td>1</td>\n",
       "      <td>1</td>\n",
       "      <td>12</td>\n",
       "      <td>3901860_Sharkling_PhantomBot_EphemeronAIE.SC2R...</td>\n",
       "    </tr>\n",
       "    <tr>\n",
       "      <th>3</th>\n",
       "      <td>0</td>\n",
       "      <td>104</td>\n",
       "      <td>2</td>\n",
       "      <td>2</td>\n",
       "      <td>12</td>\n",
       "      <td>3901860_Sharkling_PhantomBot_EphemeronAIE.SC2R...</td>\n",
       "    </tr>\n",
       "    <tr>\n",
       "      <th>4</th>\n",
       "      <td>0</td>\n",
       "      <td>106</td>\n",
       "      <td>1</td>\n",
       "      <td>1</td>\n",
       "      <td>1</td>\n",
       "      <td>3901860_Sharkling_PhantomBot_EphemeronAIE.SC2R...</td>\n",
       "    </tr>\n",
       "    <tr>\n",
       "      <th>...</th>\n",
       "      <td>...</td>\n",
       "      <td>...</td>\n",
       "      <td>...</td>\n",
       "      <td>...</td>\n",
       "      <td>...</td>\n",
       "      <td>...</td>\n",
       "    </tr>\n",
       "    <tr>\n",
       "      <th>25797105</th>\n",
       "      <td>9153</td>\n",
       "      <td>106</td>\n",
       "      <td>1</td>\n",
       "      <td>1</td>\n",
       "      <td>11</td>\n",
       "      <td>3905917_Eris_SharpenedEdge_InterloperAIE.SC2Re...</td>\n",
       "    </tr>\n",
       "    <tr>\n",
       "      <th>25797106</th>\n",
       "      <td>9153</td>\n",
       "      <td>126</td>\n",
       "      <td>1</td>\n",
       "      <td>1</td>\n",
       "      <td>8</td>\n",
       "      <td>3905917_Eris_SharpenedEdge_InterloperAIE.SC2Re...</td>\n",
       "    </tr>\n",
       "    <tr>\n",
       "      <th>25797107</th>\n",
       "      <td>9153</td>\n",
       "      <td>137</td>\n",
       "      <td>1</td>\n",
       "      <td>1</td>\n",
       "      <td>38</td>\n",
       "      <td>3905917_Eris_SharpenedEdge_InterloperAIE.SC2Re...</td>\n",
       "    </tr>\n",
       "    <tr>\n",
       "      <th>25797108</th>\n",
       "      <td>9153</td>\n",
       "      <td>138</td>\n",
       "      <td>1</td>\n",
       "      <td>1</td>\n",
       "      <td>1</td>\n",
       "      <td>3905917_Eris_SharpenedEdge_InterloperAIE.SC2Re...</td>\n",
       "    </tr>\n",
       "    <tr>\n",
       "      <th>25797109</th>\n",
       "      <td>9153</td>\n",
       "      <td>151</td>\n",
       "      <td>1</td>\n",
       "      <td>1</td>\n",
       "      <td>7</td>\n",
       "      <td>3905917_Eris_SharpenedEdge_InterloperAIE.SC2Re...</td>\n",
       "    </tr>\n",
       "  </tbody>\n",
       "</table>\n",
       "<p>25797110 rows × 6 columns</p>\n",
       "</div>"
      ],
      "text/plain": [
       "          game_loop  unit_type  player  owner  count  \\\n",
       "0                 0         86       1      1      1   \n",
       "1                 0         86       2      2      1   \n",
       "2                 0        104       1      1     12   \n",
       "3                 0        104       2      2     12   \n",
       "4                 0        106       1      1      1   \n",
       "...             ...        ...     ...    ...    ...   \n",
       "25797105       9153        106       1      1     11   \n",
       "25797106       9153        126       1      1      8   \n",
       "25797107       9153        137       1      1     38   \n",
       "25797108       9153        138       1      1      1   \n",
       "25797109       9153        151       1      1      7   \n",
       "\n",
       "                                                replay_name  \n",
       "0         3901860_Sharkling_PhantomBot_EphemeronAIE.SC2R...  \n",
       "1         3901860_Sharkling_PhantomBot_EphemeronAIE.SC2R...  \n",
       "2         3901860_Sharkling_PhantomBot_EphemeronAIE.SC2R...  \n",
       "3         3901860_Sharkling_PhantomBot_EphemeronAIE.SC2R...  \n",
       "4         3901860_Sharkling_PhantomBot_EphemeronAIE.SC2R...  \n",
       "...                                                     ...  \n",
       "25797105  3905917_Eris_SharpenedEdge_InterloperAIE.SC2Re...  \n",
       "25797106  3905917_Eris_SharpenedEdge_InterloperAIE.SC2Re...  \n",
       "25797107  3905917_Eris_SharpenedEdge_InterloperAIE.SC2Re...  \n",
       "25797108  3905917_Eris_SharpenedEdge_InterloperAIE.SC2Re...  \n",
       "25797109  3905917_Eris_SharpenedEdge_InterloperAIE.SC2Re...  \n",
       "\n",
       "[25797110 rows x 6 columns]"
      ]
     },
     "execution_count": 31,
     "metadata": {},
     "output_type": "execute_result"
    }
   ],
   "source": [
    "df_train"
   ]
  },
  {
   "cell_type": "code",
   "execution_count": 32,
   "id": "5d2f28a0159144f7",
   "metadata": {
    "ExecuteTime": {
     "end_time": "2025-06-08T00:47:48.362515Z",
     "start_time": "2025-06-08T00:47:48.203016Z"
    }
   },
   "outputs": [],
   "source": [
    "x_train, y_train = to_numpy(preprocess(df_train))\n",
    "x_test, y_test = to_numpy(preprocess(df_test))"
   ]
  },
  {
   "cell_type": "code",
   "execution_count": 33,
   "id": "22a37c49b7a96a16",
   "metadata": {
    "ExecuteTime": {
     "end_time": "2025-06-08T00:47:48.775614Z",
     "start_time": "2025-06-08T00:47:48.771350Z"
    }
   },
   "outputs": [],
   "source": [
    "class Encoder(nn.Module):\n",
    "    def __init__(self, input_size, hidden_size, dropout_p=0.1):\n",
    "        super().__init__()\n",
    "        self.hidden_size = hidden_size\n",
    "\n",
    "        self.embedding = nn.Linear(input_size, hidden_size)\n",
    "        self.gru = nn.GRU(hidden_size, hidden_size, batch_first=True)\n",
    "        self.dropout = nn.Dropout(dropout_p)\n",
    "\n",
    "    def forward(self, input):\n",
    "        embedded = self.dropout(self.embedding(input))\n",
    "        output, hidden = self.gru(embedded)\n",
    "        return output, hidden"
   ]
  },
  {
   "cell_type": "code",
   "execution_count": 34,
   "id": "a5fa367cf356bd39",
   "metadata": {
    "ExecuteTime": {
     "end_time": "2025-06-08T00:47:48.789009Z",
     "start_time": "2025-06-08T00:47:48.780660Z"
    }
   },
   "outputs": [],
   "source": [
    "class Decoder(nn.Module):\n",
    "    def __init__(self, hidden_size, output_size):\n",
    "        super().__init__()\n",
    "        self.embedding = nn.Linear(output_size, hidden_size)\n",
    "        self.gru = nn.GRU(hidden_size, hidden_size, batch_first=True)\n",
    "        self.out = nn.Linear(hidden_size, output_size)\n",
    "\n",
    "    def forward(self, encoder_outputs, encoder_hidden, target_tensor=None):\n",
    "        output, hidden = self.gru(encoder_outputs, encoder_hidden)\n",
    "        return self.out(output), hidden, None\n",
    "\n",
    "    # def forward(self, encoder_outputs, encoder_hidden, target_tensor=None):\n",
    "    #     batch_size = encoder_outputs.size(0)\n",
    "    #\n",
    "    #     decoder_input = torch.zeros(batch_size, 1, 273, device=device)\n",
    "    #     decoder_hidden = encoder_hidden\n",
    "    #     decoder_outputs = []\n",
    "    #\n",
    "    #     for i in range(encoder_outputs.size(1)):\n",
    "    #\n",
    "    #         decoder_output, decoder_hidden  = self.forward_step(decoder_input, decoder_hidden)\n",
    "    #         decoder_outputs.append(decoder_output)\n",
    "    #\n",
    "    #         if target_tensor is not None:\n",
    "    #             # Teacher forcing: Feed the target as the next input\n",
    "    #             decoder_input = target_tensor[:, i].unsqueeze(1) # Teacher forcing\n",
    "    #         else:\n",
    "    #             # Without teacher forcing: use its own predictions as the next input\n",
    "    #             _, topi = decoder_output.topk(1)\n",
    "    #             decoder_input = topi.squeeze(-1).detach()  # detach from history as input\n",
    "    #\n",
    "    #     decoder_outputs = torch.cat(decoder_outputs, dim=1)\n",
    "    #     # decoder_outputs = F.log_softmax(decoder_outputs, dim=-1)\n",
    "    #     return decoder_outputs, decoder_hidden, None # We return `None` for consistency in the training loop\n",
    "    #\n",
    "    # def forward_step(self, input, hidden):\n",
    "    #     output = self.embedding(input)\n",
    "    #     output = F.relu(output)\n",
    "    #     output, hidden = self.gru(output, hidden)\n",
    "    #     output = self.out(output)\n",
    "    #     return output, hidden"
   ]
  },
  {
   "cell_type": "code",
   "execution_count": 35,
   "id": "1ac59b85f1000baf",
   "metadata": {
    "ExecuteTime": {
     "end_time": "2025-06-08T00:47:48.801599Z",
     "start_time": "2025-06-08T00:47:48.794972Z"
    }
   },
   "outputs": [],
   "source": [
    "def train_epoch(dataloader, model, optimizer, criterion):\n",
    "    total_loss = 0\n",
    "    for data in dataloader:\n",
    "        input_tensor, target_tensor = data\n",
    "\n",
    "        optimizer.zero_grad()\n",
    "\n",
    "        prediction = model(input_tensor)\n",
    "        loss = criterion(\n",
    "            prediction,\n",
    "            target_tensor,\n",
    "            # decoder_outputs.view(-1, decoder_outputs.size(-1)),\n",
    "            # target_tensor.view(-1)\n",
    "        )\n",
    "        loss.backward()\n",
    "        optimizer.step()\n",
    "        total_loss += loss.item()\n",
    "\n",
    "    return total_loss / len(dataloader)"
   ]
  },
  {
   "cell_type": "code",
   "execution_count": 36,
   "id": "f83a5bd81a4243a7",
   "metadata": {
    "ExecuteTime": {
     "end_time": "2025-06-08T00:47:48.812326Z",
     "start_time": "2025-06-08T00:47:48.807551Z"
    }
   },
   "outputs": [],
   "source": [
    "def test_epoch(dataloader, model, criterion):\n",
    "    total_loss = 0\n",
    "    for data in tqdm(dataloader):\n",
    "        input_tensor, target_tensor = data\n",
    "\n",
    "        prediction = model(input_tensor)\n",
    "\n",
    "        loss = criterion(\n",
    "            prediction,\n",
    "            target_tensor,\n",
    "            # decoder_outputs.view(-1, decoder_outputs.size(-1)),\n",
    "            # target_tensor.view(-1)\n",
    "        )\n",
    "        loss.backward()\n",
    "\n",
    "        total_loss += loss.item()\n",
    "\n",
    "    return total_loss / len(dataloader)"
   ]
  },
  {
   "cell_type": "code",
   "execution_count": 37,
   "id": "3971366aecb7e5aa",
   "metadata": {
    "ExecuteTime": {
     "end_time": "2025-06-08T00:47:48.826164Z",
     "start_time": "2025-06-08T00:47:48.819529Z"
    }
   },
   "outputs": [],
   "source": [
    "dataset_train = TensorDataset(torch.Tensor(x_train), torch.Tensor(y_train))\n",
    "dataset_test = TensorDataset(torch.Tensor(x_test), torch.Tensor(y_test))"
   ]
  },
  {
   "cell_type": "code",
   "execution_count": 38,
   "id": "dce9bc1d6d5370d1",
   "metadata": {
    "ExecuteTime": {
     "end_time": "2025-06-08T00:47:48.839730Z",
     "start_time": "2025-06-08T00:47:48.832897Z"
    }
   },
   "outputs": [
    {
     "data": {
      "text/plain": [
       "(tensor([0., 0., 0., 0., 0., 0., 0., 0., 0., 0., 0., 0., 0., 0., 0., 0., 0., 0.,\n",
       "         0., 0., 0., 0., 0., 0., 0., 0., 0., 0., 0., 0., 0., 0., 0., 0., 0., 0.,\n",
       "         0., 0., 0., 0., 0., 0., 0., 0., 0., 0., 0., 0., 0., 0., 0., 0., 0., 0.,\n",
       "         1., 0., 0., 0., 0., 0., 0., 0., 0., 0., 0., 0., 0., 0., 0., 0., 0., 0.,\n",
       "         0., 0., 0., 1., 0., 0., 0., 0., 0., 0., 0., 0., 0., 0., 0., 0., 0., 0.,\n",
       "         0., 0., 0., 0., 0., 0., 0., 0., 0., 0., 0., 0., 0., 0., 0., 0., 0., 0.,\n",
       "         0., 0., 0., 0., 0., 0., 0., 0., 0., 0., 0., 0., 0., 0., 0., 0., 0., 0.,\n",
       "         0., 0., 0., 0., 0., 0., 0., 0., 0., 0., 0., 0., 0., 0., 0., 0., 0., 0.,\n",
       "         0., 0., 0., 0., 0., 0., 0., 0., 0., 0., 0., 0., 0., 0., 0., 0., 0., 0.,\n",
       "         0., 0.]),\n",
       " tensor([ 0.,  0.,  0.,  0.,  0.,  0.,  0.,  0.,  0.,  0.,  0.,  0.,  0.,  0.,\n",
       "          0.,  0.,  0.,  0.,  0.,  0.,  0.,  0.,  0.,  0.,  0.,  0.,  0.,  0.,\n",
       "          0.,  0.,  0.,  0.,  0.,  0.,  0.,  0.,  0.,  0.,  0.,  0.,  0.,  0.,\n",
       "          0.,  0.,  0.,  0.,  0.,  0.,  0.,  0.,  0.,  0.,  0.,  0.,  0.,  0.,\n",
       "          0.,  0.,  0.,  0.,  0.,  0.,  0.,  0.,  0.,  0.,  0.,  0.,  0.,  0.,\n",
       "          0.,  0.,  0.,  0.,  0.,  0.,  0.,  0.,  0.,  4., 42.,  1.,  1.,  0.,\n",
       "          0.,  0.,  0.,  0.,  0.,  0.,  1.,  0.,  0.,  0.,  0.,  0., 29., 82.,\n",
       "         11.,  0.,  0.,  0.,  0.,  0.,  0.,  0.,  0.,  0.,  0.,  0.,  0.,  0.,\n",
       "          0.,  8.,  0.,  0.,  0.,  0.,  0.,  0.,  0.,  0., 38.,  1.,  0.,  0.,\n",
       "          0.,  0.,  0.,  0.,  0.,  0.,  0.,  0.,  0.,  0.,  0.,  0.,  0.,  0.,\n",
       "          0.,  0.,  0.,  0.,  0.,  0.,  0.,  0.,  0.,  0.,  0.,  0.,  0.,  0.,\n",
       "          0.,  0.,  0.,  0.,  0.,  0.,  0.,  0.,  0.,  0.]))"
      ]
     },
     "execution_count": 38,
     "metadata": {},
     "output_type": "execute_result"
    }
   ],
   "source": [
    "dataset_train[-1]"
   ]
  },
  {
   "cell_type": "code",
   "execution_count": 39,
   "id": "f05c9163db537214",
   "metadata": {
    "ExecuteTime": {
     "end_time": "2025-06-08T00:47:48.853956Z",
     "start_time": "2025-06-08T00:47:48.849521Z"
    }
   },
   "outputs": [],
   "source": [
    "dataloader_train = DataLoader(dataset_train, batch_size=64, shuffle=True)\n",
    "dataloader_test = DataLoader(dataset_test, batch_size=64, shuffle=True)"
   ]
  },
  {
   "cell_type": "code",
   "execution_count": 40,
   "id": "4265c8d4973145fc",
   "metadata": {
    "ExecuteTime": {
     "end_time": "2025-06-08T00:47:48.864871Z",
     "start_time": "2025-06-08T00:47:48.860302Z"
    }
   },
   "outputs": [],
   "source": [
    "def train(train_dataloader, model, n_epochs, learning_rate=0.001):\n",
    "    time.time()\n",
    "\n",
    "    optimizer = optim.Adam(model.parameters(), lr=learning_rate)\n",
    "    criterion = nn.MSELoss()\n",
    "\n",
    "    for _epoch in range(1, n_epochs + 1):\n",
    "        loss = train_epoch(train_dataloader, model, optimizer, criterion)\n",
    "        print(loss)"
   ]
  },
  {
   "cell_type": "code",
   "execution_count": 41,
   "id": "355c974b82c9af79",
   "metadata": {
    "ExecuteTime": {
     "start_time": "2025-06-08T00:47:48.871066Z"
    },
    "jupyter": {
     "is_executing": true
    }
   },
   "outputs": [
    {
     "name": "stdout",
     "output_type": "stream",
     "text": [
      "25.76875088008031\n",
      "23.10143742271563\n",
      "22.639423123649337\n",
      "22.476737745025037\n",
      "22.390035761770147\n",
      "22.33268668132845\n",
      "22.290302525686375\n",
      "22.25712185547666\n",
      "22.2301807126057\n",
      "22.207888689158988\n"
     ]
    }
   ],
   "source": [
    "input_size = x_train.shape[1]\n",
    "output_size = y_train.shape[1]\n",
    "batch_size = 32\n",
    "\n",
    "model = nn.Linear(input_size, output_size)\n",
    "\n",
    "train(dataloader_train, model, 10)"
   ]
  },
  {
   "cell_type": "code",
   "execution_count": 42,
   "id": "6bf7d03aaa72a3d3",
   "metadata": {},
   "outputs": [
    {
     "data": {
      "application/vnd.jupyter.widget-view+json": {
       "model_id": "b99ef7dd99584d96979b86d37c4a62fb",
       "version_major": 2,
       "version_minor": 0
      },
      "text/plain": [
       "  0%|          | 0/1819 [00:00<?, ?it/s]"
      ]
     },
     "metadata": {},
     "output_type": "display_data"
    },
    {
     "name": "stdout",
     "output_type": "stream",
     "text": [
      "22.997070504912575\n"
     ]
    }
   ],
   "source": [
    "loss = test_epoch(dataloader_test, model, nn.MSELoss())\n",
    "print(loss)"
   ]
  },
  {
   "cell_type": "code",
   "execution_count": 45,
   "id": "bf6f35c0ccc1a7ef",
   "metadata": {},
   "outputs": [
    {
     "data": {
      "text/plain": [
       "tensor([[-1.0255e-02,  2.2910e-01,  3.0603e-02,  ..., -6.2798e-05,\n",
       "         -1.7010e-03, -5.0732e-03],\n",
       "        [ 2.9298e-01,  1.0642e+00,  5.6346e-02,  ..., -2.4096e-04,\n",
       "          2.9729e-03, -8.6043e-02],\n",
       "        [-1.4080e-02,  2.1203e-01,  4.0611e-02,  ..., -2.5963e-05,\n",
       "         -1.9898e-03, -3.3154e-03],\n",
       "        ...,\n",
       "        [ 4.2368e-02,  7.6389e-02,  3.6934e-02,  ...,  9.6757e-06,\n",
       "         -4.9688e-04, -2.0190e-03],\n",
       "        [ 7.7588e-02,  1.4226e-01,  4.5386e-02,  ..., -3.3318e-04,\n",
       "          6.5945e-04, -8.4444e-04],\n",
       "        [ 1.5239e-01,  1.6373e+00,  6.6208e-02,  ..., -1.0677e-04,\n",
       "         -5.8723e-04, -1.0875e-02]], grad_fn=<AddmmBackward0>)"
      ]
     },
     "execution_count": 45,
     "metadata": {},
     "output_type": "execute_result"
    }
   ],
   "source": [
    "x_test_sample, y_test_sample = next(iter(dataloader_test))\n",
    "model(x_test_sample)"
   ]
  }
 ],
 "metadata": {
  "kernelspec": {
   "display_name": ".venv",
   "language": "python",
   "name": "python3"
  },
  "language_info": {
   "codemirror_mode": {
    "name": "ipython",
    "version": 3
   },
   "file_extension": ".py",
   "mimetype": "text/x-python",
   "name": "python",
   "nbconvert_exporter": "python",
   "pygments_lexer": "ipython3",
   "version": "3.12.10"
  }
 },
 "nbformat": 4,
 "nbformat_minor": 5
}
