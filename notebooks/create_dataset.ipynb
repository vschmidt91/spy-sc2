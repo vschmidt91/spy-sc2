{
 "cells": [
  {
   "cell_type": "code",
   "execution_count": null,
   "id": "732265a6e6a0b0fc",
   "metadata": {
    "ExecuteTime": {
     "end_time": "2025-06-08T21:37:57.713764Z",
     "start_time": "2025-06-08T21:37:57.697224Z"
    }
   },
   "outputs": [],
   "source": [
    "import glob\n",
    "import os\n",
    "\n",
    "import dask.dataframe as dd\n",
    "import pandas as pd\n",
    "from dask.diagnostics import ProgressBar\n",
    "from numpy.random import default_rng\n",
    "from sc2.unit import Race\n",
    "\n",
    "from spy_sc2.replay import ReplayMetadata"
   ]
  },
  {
   "cell_type": "markdown",
   "id": "9e4dd8a4",
   "metadata": {},
   "source": []
  },
  {
   "cell_type": "code",
   "execution_count": 2,
   "id": "be1854d577f7ac4c",
   "metadata": {
    "ExecuteTime": {
     "end_time": "2025-06-08T21:37:57.727340Z",
     "start_time": "2025-06-08T21:37:57.720854Z"
    }
   },
   "outputs": [],
   "source": [
    "maps = [\n",
    "    \"AutomatonAIE.SC2Map\",\n",
    "    \"AbyssalReefAIE.SC2Map\",\n",
    "    \"InterloperAIE.SC2Map\",\n",
    "    \"EphemeronAIE.SC2Map\",\n",
    "    \"AcropolisAIE.SC2Map\",\n",
    "    \"ThunderbirdAIE.SC2Map\",\n",
    "]\n",
    "test_maps = {maps[0]}"
   ]
  },
  {
   "cell_type": "code",
   "execution_count": 3,
   "id": "a8f86697b45a12be",
   "metadata": {
    "ExecuteTime": {
     "end_time": "2025-06-08T21:37:57.741485Z",
     "start_time": "2025-06-08T21:37:57.731405Z"
    }
   },
   "outputs": [
    {
     "data": {
      "text/plain": [
       "['../resources/replays/aiarena\\\\3901860_Sharkling_PhantomBot_EphemeronAIE.SC2Replay.parquet',\n",
       " '../resources/replays/aiarena\\\\3904878_Deimos_Eris_AutomatonAIE.SC2Replay.parquet',\n",
       " '../resources/replays/aiarena\\\\3904909_VeTerran-revived_Eris_AbyssalReefAIE.SC2Replay.parquet',\n",
       " '../resources/replays/aiarena\\\\3904922_Ketroc_Eris_InterloperAIE.SC2Replay.parquet',\n",
       " '../resources/replays/aiarena\\\\3905061_MicroMachine_Eris_InterloperAIE.SC2Replay.parquet',\n",
       " '../resources/replays/aiarena\\\\3905138_Eris_Aeolus_AbyssalReefAIE.SC2Replay.parquet',\n",
       " '../resources/replays/aiarena\\\\3905139_Eris_Xena_EphemeronAIE.SC2Replay.parquet',\n",
       " '../resources/replays/aiarena\\\\3905140_Eris_Zozo_AcropolisAIE.SC2Replay.parquet',\n",
       " '../resources/replays/aiarena\\\\3905142_Eris_Caninana_AbyssalReefAIE.SC2Replay.parquet',\n",
       " '../resources/replays/aiarena\\\\3905145_Eris_Phobos_AcropolisAIE.SC2Replay.parquet',\n",
       " '../resources/replays/aiarena\\\\3905146_Eris_SharpenedEdge_AutomatonAIE.SC2Replay.parquet',\n",
       " '../resources/replays/aiarena\\\\3905711_ThomTestception_Eris_ThunderbirdAIE.SC2Replay.parquet',\n",
       " '../resources/replays/aiarena\\\\3905901_Eris_Sharkling_InterloperAIE.SC2Replay.parquet',\n",
       " '../resources/replays/aiarena\\\\3905902_Eris_Roro_ThunderbirdAIE.SC2Replay.parquet',\n",
       " '../resources/replays/aiarena\\\\3905903_Eris_Deimos_EphemeronAIE.SC2Replay.parquet',\n",
       " '../resources/replays/aiarena\\\\3905904_Eris_MicroMachine_ThunderbirdAIE.SC2Replay.parquet',\n",
       " '../resources/replays/aiarena\\\\3905905_Eris_Ketroc_AutomatonAIE.SC2Replay.parquet',\n",
       " '../resources/replays/aiarena\\\\3905906_Eris_VeTerran-revived_AutomatonAIE.SC2Replay.parquet',\n",
       " '../resources/replays/aiarena\\\\3905907_Eris_Aeolus_AbyssalReefAIE.SC2Replay.parquet',\n",
       " '../resources/replays/aiarena\\\\3905908_Eris_Xena_InterloperAIE.SC2Replay.parquet',\n",
       " '../resources/replays/aiarena\\\\3905909_Eris_Caninana_AutomatonAIE.SC2Replay.parquet',\n",
       " '../resources/replays/aiarena\\\\3905910_Eris_Zozo_AbyssalReefAIE.SC2Replay.parquet',\n",
       " '../resources/replays/aiarena\\\\3905911_Eris_changeling_EphemeronAIE.SC2Replay.parquet',\n",
       " '../resources/replays/aiarena\\\\3905912_Eris_DominionDog_AbyssalReefAIE.SC2Replay.parquet',\n",
       " '../resources/replays/aiarena\\\\3905913_Eris_negativeZero_AutomatonAIE.SC2Replay.parquet',\n",
       " '../resources/replays/aiarena\\\\3905914_Eris_sharkbot_InterloperAIE.SC2Replay.parquet',\n",
       " '../resources/replays/aiarena\\\\3905915_Eris_BenBotBC_InterloperAIE.SC2Replay.parquet',\n",
       " '../resources/replays/aiarena\\\\3905916_Eris_Phobos_AbyssalReefAIE.SC2Replay.parquet',\n",
       " '../resources/replays/aiarena\\\\3905917_Eris_SharpenedEdge_InterloperAIE.SC2Replay.parquet']"
      ]
     },
     "execution_count": 3,
     "metadata": {},
     "output_type": "execute_result"
    }
   ],
   "source": [
    "replay_dir = \"../resources/replays/aiarena/*.SC2Replay.parquet\"\n",
    "replay_paths = glob.glob(replay_dir)\n",
    "replay_names = [os.path.basename(p) for p in replay_paths]\n",
    "replay_paths"
   ]
  },
  {
   "cell_type": "code",
   "execution_count": 4,
   "id": "146ef180",
   "metadata": {},
   "outputs": [
    {
     "data": {
      "text/plain": [
       "{'NoRace': 0, 'Terran': 1, 'Zerg': 2, 'Protoss': 3, 'Random': 4}"
      ]
     },
     "execution_count": 4,
     "metadata": {},
     "output_type": "execute_result"
    }
   ],
   "source": [
    "race_to_id = {race.name: Race(race).value for race in Race}\n",
    "race_to_id"
   ]
  },
  {
   "cell_type": "code",
   "execution_count": 5,
   "id": "f7519fb940d0759e",
   "metadata": {
    "ExecuteTime": {
     "end_time": "2025-06-08T21:37:57.755263Z",
     "start_time": "2025-06-08T21:37:57.747468Z"
    }
   },
   "outputs": [],
   "source": [
    "def pipeline(replay_path: str) -> pd.DataFrame:\n",
    "    replay_name = os.path.basename(replay_path)\n",
    "    df = pd.read_parquet(replay_path)\n",
    "    replay_path_raw = replay_path.replace(\".parquet\", \"\")\n",
    "    metadata = ReplayMetadata.from_file(replay_path_raw)\n",
    "    df = df.groupby([\"game_loop\", \"unit_type\", \"player\", \"owner\"])[\"tag\"]\n",
    "    df = df.count()\n",
    "    df = df.rename(\"count\")\n",
    "    df = df.reset_index()\n",
    "    df = df.assign(race=df[\"player\"].map(metadata.player_races).map(race_to_id))\n",
    "    df = df.assign(enemy=3 - df[\"player\"])\n",
    "    df = df.assign(enemy_race=df[\"enemy\"].map(metadata.player_races).map(race_to_id))\n",
    "    df = df.assign(replay_name=replay_name)\n",
    "    return df"
   ]
  },
  {
   "cell_type": "code",
   "execution_count": 6,
   "id": "155cbe95f4a7d383",
   "metadata": {
    "ExecuteTime": {
     "end_time": "2025-06-08T21:37:58.058230Z",
     "start_time": "2025-06-08T21:37:57.760741Z"
    }
   },
   "outputs": [
    {
     "name": "stdout",
     "output_type": "stream",
     "text": [
      "[########################################] | 100% Completed | 1.14 ss\n",
      "[########################################] | 100% Completed | 263.73 s\n"
     ]
    }
   ],
   "source": [
    "with ProgressBar():\n",
    "    df_all = dd.from_map(pipeline, replay_paths).compute()"
   ]
  },
  {
   "cell_type": "code",
   "execution_count": 7,
   "id": "431d1cec74e805e6",
   "metadata": {
    "ExecuteTime": {
     "end_time": "2025-06-08T21:37:58.060731Z",
     "start_time": "2025-06-08T16:10:47.148608Z"
    }
   },
   "outputs": [],
   "source": [
    "replay_names = df_all[\"replay_name\"].unique()\n",
    "test_replay_count = max(1, len(replay_names) // 11)\n",
    "test_replays = default_rng().choice(replay_names, test_replay_count, replace=False)\n",
    "test_mask = df_all[\"replay_name\"].isin(test_replays)\n",
    "df_train = df_all[~test_mask].reset_index(drop=True)\n",
    "df_test = df_all[test_mask].reset_index(drop=True)"
   ]
  },
  {
   "cell_type": "code",
   "execution_count": 8,
   "id": "2cbf73a9",
   "metadata": {},
   "outputs": [],
   "source": [
    "df_test.to_parquet(\"../resources/datasets/scout/test.parquet\")\n",
    "df_train.to_parquet(\"../resources/datasets/scout/train.parquet\")"
   ]
  },
  {
   "cell_type": "code",
   "execution_count": 9,
   "id": "fba82e7f",
   "metadata": {},
   "outputs": [
    {
     "data": {
      "application/vnd.microsoft.datawrangler.viewer.v0+json": {
       "columns": [
        {
         "name": "index",
         "rawType": "int64",
         "type": "integer"
        },
        {
         "name": "game_loop",
         "rawType": "int32",
         "type": "integer"
        },
        {
         "name": "unit_type",
         "rawType": "int32",
         "type": "integer"
        },
        {
         "name": "player",
         "rawType": "int8",
         "type": "integer"
        },
        {
         "name": "owner",
         "rawType": "int8",
         "type": "integer"
        },
        {
         "name": "count",
         "rawType": "int64",
         "type": "integer"
        },
        {
         "name": "race",
         "rawType": "int64",
         "type": "integer"
        },
        {
         "name": "enemy",
         "rawType": "int8",
         "type": "integer"
        },
        {
         "name": "enemy_race",
         "rawType": "int64",
         "type": "integer"
        },
        {
         "name": "replay_name",
         "rawType": "string",
         "type": "string"
        }
       ],
       "ref": "91064fb4-1e19-42c9-b2c7-5e9f50068b40",
       "rows": [
        [
         "0",
         "0",
         "86",
         "1",
         "1",
         "1",
         "2",
         "2",
         "2",
         "3901860_Sharkling_PhantomBot_EphemeronAIE.SC2Replay.parquet"
        ],
        [
         "1",
         "0",
         "86",
         "2",
         "2",
         "1",
         "2",
         "1",
         "2",
         "3901860_Sharkling_PhantomBot_EphemeronAIE.SC2Replay.parquet"
        ],
        [
         "2",
         "0",
         "104",
         "1",
         "1",
         "12",
         "2",
         "2",
         "2",
         "3901860_Sharkling_PhantomBot_EphemeronAIE.SC2Replay.parquet"
        ],
        [
         "3",
         "0",
         "104",
         "2",
         "2",
         "12",
         "2",
         "1",
         "2",
         "3901860_Sharkling_PhantomBot_EphemeronAIE.SC2Replay.parquet"
        ],
        [
         "4",
         "0",
         "106",
         "1",
         "1",
         "1",
         "2",
         "2",
         "2",
         "3901860_Sharkling_PhantomBot_EphemeronAIE.SC2Replay.parquet"
        ],
        [
         "5",
         "0",
         "106",
         "2",
         "2",
         "1",
         "2",
         "1",
         "2",
         "3901860_Sharkling_PhantomBot_EphemeronAIE.SC2Replay.parquet"
        ],
        [
         "6",
         "0",
         "151",
         "1",
         "1",
         "3",
         "2",
         "2",
         "2",
         "3901860_Sharkling_PhantomBot_EphemeronAIE.SC2Replay.parquet"
        ],
        [
         "7",
         "0",
         "151",
         "2",
         "2",
         "3",
         "2",
         "1",
         "2",
         "3901860_Sharkling_PhantomBot_EphemeronAIE.SC2Replay.parquet"
        ],
        [
         "8",
         "1",
         "86",
         "1",
         "1",
         "1",
         "2",
         "2",
         "2",
         "3901860_Sharkling_PhantomBot_EphemeronAIE.SC2Replay.parquet"
        ],
        [
         "9",
         "1",
         "86",
         "2",
         "2",
         "1",
         "2",
         "1",
         "2",
         "3901860_Sharkling_PhantomBot_EphemeronAIE.SC2Replay.parquet"
        ],
        [
         "10",
         "1",
         "104",
         "1",
         "1",
         "12",
         "2",
         "2",
         "2",
         "3901860_Sharkling_PhantomBot_EphemeronAIE.SC2Replay.parquet"
        ],
        [
         "11",
         "1",
         "104",
         "2",
         "2",
         "12",
         "2",
         "1",
         "2",
         "3901860_Sharkling_PhantomBot_EphemeronAIE.SC2Replay.parquet"
        ],
        [
         "12",
         "1",
         "106",
         "1",
         "1",
         "1",
         "2",
         "2",
         "2",
         "3901860_Sharkling_PhantomBot_EphemeronAIE.SC2Replay.parquet"
        ],
        [
         "13",
         "1",
         "106",
         "2",
         "2",
         "1",
         "2",
         "1",
         "2",
         "3901860_Sharkling_PhantomBot_EphemeronAIE.SC2Replay.parquet"
        ],
        [
         "14",
         "1",
         "151",
         "1",
         "1",
         "3",
         "2",
         "2",
         "2",
         "3901860_Sharkling_PhantomBot_EphemeronAIE.SC2Replay.parquet"
        ],
        [
         "15",
         "1",
         "151",
         "2",
         "2",
         "3",
         "2",
         "1",
         "2",
         "3901860_Sharkling_PhantomBot_EphemeronAIE.SC2Replay.parquet"
        ],
        [
         "16",
         "2",
         "86",
         "1",
         "1",
         "1",
         "2",
         "2",
         "2",
         "3901860_Sharkling_PhantomBot_EphemeronAIE.SC2Replay.parquet"
        ],
        [
         "17",
         "2",
         "86",
         "2",
         "2",
         "1",
         "2",
         "1",
         "2",
         "3901860_Sharkling_PhantomBot_EphemeronAIE.SC2Replay.parquet"
        ],
        [
         "18",
         "2",
         "104",
         "1",
         "1",
         "12",
         "2",
         "2",
         "2",
         "3901860_Sharkling_PhantomBot_EphemeronAIE.SC2Replay.parquet"
        ],
        [
         "19",
         "2",
         "104",
         "2",
         "2",
         "12",
         "2",
         "1",
         "2",
         "3901860_Sharkling_PhantomBot_EphemeronAIE.SC2Replay.parquet"
        ],
        [
         "20",
         "2",
         "106",
         "1",
         "1",
         "1",
         "2",
         "2",
         "2",
         "3901860_Sharkling_PhantomBot_EphemeronAIE.SC2Replay.parquet"
        ],
        [
         "21",
         "2",
         "106",
         "2",
         "2",
         "1",
         "2",
         "1",
         "2",
         "3901860_Sharkling_PhantomBot_EphemeronAIE.SC2Replay.parquet"
        ],
        [
         "22",
         "2",
         "151",
         "1",
         "1",
         "3",
         "2",
         "2",
         "2",
         "3901860_Sharkling_PhantomBot_EphemeronAIE.SC2Replay.parquet"
        ],
        [
         "23",
         "2",
         "151",
         "2",
         "2",
         "3",
         "2",
         "1",
         "2",
         "3901860_Sharkling_PhantomBot_EphemeronAIE.SC2Replay.parquet"
        ],
        [
         "24",
         "3",
         "86",
         "1",
         "1",
         "1",
         "2",
         "2",
         "2",
         "3901860_Sharkling_PhantomBot_EphemeronAIE.SC2Replay.parquet"
        ],
        [
         "25",
         "3",
         "86",
         "2",
         "2",
         "1",
         "2",
         "1",
         "2",
         "3901860_Sharkling_PhantomBot_EphemeronAIE.SC2Replay.parquet"
        ],
        [
         "26",
         "3",
         "104",
         "1",
         "1",
         "12",
         "2",
         "2",
         "2",
         "3901860_Sharkling_PhantomBot_EphemeronAIE.SC2Replay.parquet"
        ],
        [
         "27",
         "3",
         "104",
         "2",
         "2",
         "12",
         "2",
         "1",
         "2",
         "3901860_Sharkling_PhantomBot_EphemeronAIE.SC2Replay.parquet"
        ],
        [
         "28",
         "3",
         "106",
         "1",
         "1",
         "1",
         "2",
         "2",
         "2",
         "3901860_Sharkling_PhantomBot_EphemeronAIE.SC2Replay.parquet"
        ],
        [
         "29",
         "3",
         "106",
         "2",
         "2",
         "1",
         "2",
         "1",
         "2",
         "3901860_Sharkling_PhantomBot_EphemeronAIE.SC2Replay.parquet"
        ],
        [
         "30",
         "3",
         "151",
         "1",
         "1",
         "3",
         "2",
         "2",
         "2",
         "3901860_Sharkling_PhantomBot_EphemeronAIE.SC2Replay.parquet"
        ],
        [
         "31",
         "3",
         "151",
         "2",
         "2",
         "3",
         "2",
         "1",
         "2",
         "3901860_Sharkling_PhantomBot_EphemeronAIE.SC2Replay.parquet"
        ],
        [
         "32",
         "4",
         "86",
         "1",
         "1",
         "1",
         "2",
         "2",
         "2",
         "3901860_Sharkling_PhantomBot_EphemeronAIE.SC2Replay.parquet"
        ],
        [
         "33",
         "4",
         "86",
         "2",
         "2",
         "1",
         "2",
         "1",
         "2",
         "3901860_Sharkling_PhantomBot_EphemeronAIE.SC2Replay.parquet"
        ],
        [
         "34",
         "4",
         "103",
         "2",
         "2",
         "1",
         "2",
         "1",
         "2",
         "3901860_Sharkling_PhantomBot_EphemeronAIE.SC2Replay.parquet"
        ],
        [
         "35",
         "4",
         "104",
         "1",
         "1",
         "12",
         "2",
         "2",
         "2",
         "3901860_Sharkling_PhantomBot_EphemeronAIE.SC2Replay.parquet"
        ],
        [
         "36",
         "4",
         "104",
         "2",
         "2",
         "12",
         "2",
         "1",
         "2",
         "3901860_Sharkling_PhantomBot_EphemeronAIE.SC2Replay.parquet"
        ],
        [
         "37",
         "4",
         "106",
         "1",
         "1",
         "1",
         "2",
         "2",
         "2",
         "3901860_Sharkling_PhantomBot_EphemeronAIE.SC2Replay.parquet"
        ],
        [
         "38",
         "4",
         "106",
         "2",
         "2",
         "1",
         "2",
         "1",
         "2",
         "3901860_Sharkling_PhantomBot_EphemeronAIE.SC2Replay.parquet"
        ],
        [
         "39",
         "4",
         "151",
         "1",
         "1",
         "3",
         "2",
         "2",
         "2",
         "3901860_Sharkling_PhantomBot_EphemeronAIE.SC2Replay.parquet"
        ],
        [
         "40",
         "4",
         "151",
         "2",
         "2",
         "2",
         "2",
         "1",
         "2",
         "3901860_Sharkling_PhantomBot_EphemeronAIE.SC2Replay.parquet"
        ],
        [
         "41",
         "5",
         "86",
         "1",
         "1",
         "1",
         "2",
         "2",
         "2",
         "3901860_Sharkling_PhantomBot_EphemeronAIE.SC2Replay.parquet"
        ],
        [
         "42",
         "5",
         "86",
         "2",
         "2",
         "1",
         "2",
         "1",
         "2",
         "3901860_Sharkling_PhantomBot_EphemeronAIE.SC2Replay.parquet"
        ],
        [
         "43",
         "5",
         "103",
         "2",
         "2",
         "1",
         "2",
         "1",
         "2",
         "3901860_Sharkling_PhantomBot_EphemeronAIE.SC2Replay.parquet"
        ],
        [
         "44",
         "5",
         "104",
         "1",
         "1",
         "12",
         "2",
         "2",
         "2",
         "3901860_Sharkling_PhantomBot_EphemeronAIE.SC2Replay.parquet"
        ],
        [
         "45",
         "5",
         "104",
         "2",
         "2",
         "12",
         "2",
         "1",
         "2",
         "3901860_Sharkling_PhantomBot_EphemeronAIE.SC2Replay.parquet"
        ],
        [
         "46",
         "5",
         "106",
         "1",
         "1",
         "1",
         "2",
         "2",
         "2",
         "3901860_Sharkling_PhantomBot_EphemeronAIE.SC2Replay.parquet"
        ],
        [
         "47",
         "5",
         "106",
         "2",
         "2",
         "1",
         "2",
         "1",
         "2",
         "3901860_Sharkling_PhantomBot_EphemeronAIE.SC2Replay.parquet"
        ],
        [
         "48",
         "5",
         "151",
         "1",
         "1",
         "3",
         "2",
         "2",
         "2",
         "3901860_Sharkling_PhantomBot_EphemeronAIE.SC2Replay.parquet"
        ],
        [
         "49",
         "5",
         "151",
         "2",
         "2",
         "2",
         "2",
         "1",
         "2",
         "3901860_Sharkling_PhantomBot_EphemeronAIE.SC2Replay.parquet"
        ]
       ],
       "shape": {
        "columns": 9,
        "rows": 25148329
       }
      },
      "text/html": [
       "<div>\n",
       "<style scoped>\n",
       "    .dataframe tbody tr th:only-of-type {\n",
       "        vertical-align: middle;\n",
       "    }\n",
       "\n",
       "    .dataframe tbody tr th {\n",
       "        vertical-align: top;\n",
       "    }\n",
       "\n",
       "    .dataframe thead th {\n",
       "        text-align: right;\n",
       "    }\n",
       "</style>\n",
       "<table border=\"1\" class=\"dataframe\">\n",
       "  <thead>\n",
       "    <tr style=\"text-align: right;\">\n",
       "      <th></th>\n",
       "      <th>game_loop</th>\n",
       "      <th>unit_type</th>\n",
       "      <th>player</th>\n",
       "      <th>owner</th>\n",
       "      <th>count</th>\n",
       "      <th>race</th>\n",
       "      <th>enemy</th>\n",
       "      <th>enemy_race</th>\n",
       "      <th>replay_name</th>\n",
       "    </tr>\n",
       "  </thead>\n",
       "  <tbody>\n",
       "    <tr>\n",
       "      <th>0</th>\n",
       "      <td>0</td>\n",
       "      <td>86</td>\n",
       "      <td>1</td>\n",
       "      <td>1</td>\n",
       "      <td>1</td>\n",
       "      <td>2</td>\n",
       "      <td>2</td>\n",
       "      <td>2</td>\n",
       "      <td>3901860_Sharkling_PhantomBot_EphemeronAIE.SC2R...</td>\n",
       "    </tr>\n",
       "    <tr>\n",
       "      <th>1</th>\n",
       "      <td>0</td>\n",
       "      <td>86</td>\n",
       "      <td>2</td>\n",
       "      <td>2</td>\n",
       "      <td>1</td>\n",
       "      <td>2</td>\n",
       "      <td>1</td>\n",
       "      <td>2</td>\n",
       "      <td>3901860_Sharkling_PhantomBot_EphemeronAIE.SC2R...</td>\n",
       "    </tr>\n",
       "    <tr>\n",
       "      <th>2</th>\n",
       "      <td>0</td>\n",
       "      <td>104</td>\n",
       "      <td>1</td>\n",
       "      <td>1</td>\n",
       "      <td>12</td>\n",
       "      <td>2</td>\n",
       "      <td>2</td>\n",
       "      <td>2</td>\n",
       "      <td>3901860_Sharkling_PhantomBot_EphemeronAIE.SC2R...</td>\n",
       "    </tr>\n",
       "    <tr>\n",
       "      <th>3</th>\n",
       "      <td>0</td>\n",
       "      <td>104</td>\n",
       "      <td>2</td>\n",
       "      <td>2</td>\n",
       "      <td>12</td>\n",
       "      <td>2</td>\n",
       "      <td>1</td>\n",
       "      <td>2</td>\n",
       "      <td>3901860_Sharkling_PhantomBot_EphemeronAIE.SC2R...</td>\n",
       "    </tr>\n",
       "    <tr>\n",
       "      <th>4</th>\n",
       "      <td>0</td>\n",
       "      <td>106</td>\n",
       "      <td>1</td>\n",
       "      <td>1</td>\n",
       "      <td>1</td>\n",
       "      <td>2</td>\n",
       "      <td>2</td>\n",
       "      <td>2</td>\n",
       "      <td>3901860_Sharkling_PhantomBot_EphemeronAIE.SC2R...</td>\n",
       "    </tr>\n",
       "    <tr>\n",
       "      <th>...</th>\n",
       "      <td>...</td>\n",
       "      <td>...</td>\n",
       "      <td>...</td>\n",
       "      <td>...</td>\n",
       "      <td>...</td>\n",
       "      <td>...</td>\n",
       "      <td>...</td>\n",
       "      <td>...</td>\n",
       "      <td>...</td>\n",
       "    </tr>\n",
       "    <tr>\n",
       "      <th>25148324</th>\n",
       "      <td>9153</td>\n",
       "      <td>106</td>\n",
       "      <td>1</td>\n",
       "      <td>1</td>\n",
       "      <td>11</td>\n",
       "      <td>2</td>\n",
       "      <td>2</td>\n",
       "      <td>3</td>\n",
       "      <td>3905917_Eris_SharpenedEdge_InterloperAIE.SC2Re...</td>\n",
       "    </tr>\n",
       "    <tr>\n",
       "      <th>25148325</th>\n",
       "      <td>9153</td>\n",
       "      <td>126</td>\n",
       "      <td>1</td>\n",
       "      <td>1</td>\n",
       "      <td>8</td>\n",
       "      <td>2</td>\n",
       "      <td>2</td>\n",
       "      <td>3</td>\n",
       "      <td>3905917_Eris_SharpenedEdge_InterloperAIE.SC2Re...</td>\n",
       "    </tr>\n",
       "    <tr>\n",
       "      <th>25148326</th>\n",
       "      <td>9153</td>\n",
       "      <td>137</td>\n",
       "      <td>1</td>\n",
       "      <td>1</td>\n",
       "      <td>38</td>\n",
       "      <td>2</td>\n",
       "      <td>2</td>\n",
       "      <td>3</td>\n",
       "      <td>3905917_Eris_SharpenedEdge_InterloperAIE.SC2Re...</td>\n",
       "    </tr>\n",
       "    <tr>\n",
       "      <th>25148327</th>\n",
       "      <td>9153</td>\n",
       "      <td>138</td>\n",
       "      <td>1</td>\n",
       "      <td>1</td>\n",
       "      <td>1</td>\n",
       "      <td>2</td>\n",
       "      <td>2</td>\n",
       "      <td>3</td>\n",
       "      <td>3905917_Eris_SharpenedEdge_InterloperAIE.SC2Re...</td>\n",
       "    </tr>\n",
       "    <tr>\n",
       "      <th>25148328</th>\n",
       "      <td>9153</td>\n",
       "      <td>151</td>\n",
       "      <td>1</td>\n",
       "      <td>1</td>\n",
       "      <td>7</td>\n",
       "      <td>2</td>\n",
       "      <td>2</td>\n",
       "      <td>3</td>\n",
       "      <td>3905917_Eris_SharpenedEdge_InterloperAIE.SC2Re...</td>\n",
       "    </tr>\n",
       "  </tbody>\n",
       "</table>\n",
       "<p>25148329 rows × 9 columns</p>\n",
       "</div>"
      ],
      "text/plain": [
       "          game_loop  unit_type  player  owner  count  race  enemy  enemy_race  \\\n",
       "0                 0         86       1      1      1     2      2           2   \n",
       "1                 0         86       2      2      1     2      1           2   \n",
       "2                 0        104       1      1     12     2      2           2   \n",
       "3                 0        104       2      2     12     2      1           2   \n",
       "4                 0        106       1      1      1     2      2           2   \n",
       "...             ...        ...     ...    ...    ...   ...    ...         ...   \n",
       "25148324       9153        106       1      1     11     2      2           3   \n",
       "25148325       9153        126       1      1      8     2      2           3   \n",
       "25148326       9153        137       1      1     38     2      2           3   \n",
       "25148327       9153        138       1      1      1     2      2           3   \n",
       "25148328       9153        151       1      1      7     2      2           3   \n",
       "\n",
       "                                                replay_name  \n",
       "0         3901860_Sharkling_PhantomBot_EphemeronAIE.SC2R...  \n",
       "1         3901860_Sharkling_PhantomBot_EphemeronAIE.SC2R...  \n",
       "2         3901860_Sharkling_PhantomBot_EphemeronAIE.SC2R...  \n",
       "3         3901860_Sharkling_PhantomBot_EphemeronAIE.SC2R...  \n",
       "4         3901860_Sharkling_PhantomBot_EphemeronAIE.SC2R...  \n",
       "...                                                     ...  \n",
       "25148324  3905917_Eris_SharpenedEdge_InterloperAIE.SC2Re...  \n",
       "25148325  3905917_Eris_SharpenedEdge_InterloperAIE.SC2Re...  \n",
       "25148326  3905917_Eris_SharpenedEdge_InterloperAIE.SC2Re...  \n",
       "25148327  3905917_Eris_SharpenedEdge_InterloperAIE.SC2Re...  \n",
       "25148328  3905917_Eris_SharpenedEdge_InterloperAIE.SC2Re...  \n",
       "\n",
       "[25148329 rows x 9 columns]"
      ]
     },
     "execution_count": 9,
     "metadata": {},
     "output_type": "execute_result"
    }
   ],
   "source": [
    "df_train"
   ]
  }
 ],
 "metadata": {
  "kernelspec": {
   "display_name": ".venv",
   "language": "python",
   "name": "python3"
  },
  "language_info": {
   "codemirror_mode": {
    "name": "ipython",
    "version": 3
   },
   "file_extension": ".py",
   "mimetype": "text/x-python",
   "name": "python",
   "nbconvert_exporter": "python",
   "pygments_lexer": "ipython3",
   "version": "3.12.10"
  }
 },
 "nbformat": 4,
 "nbformat_minor": 5
}
